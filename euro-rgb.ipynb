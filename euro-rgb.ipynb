{
 "cells": [
  {
   "cell_type": "code",
   "execution_count": 27,
   "metadata": {},
   "outputs": [],
   "source": [
    "import os\n",
    "import matplotlib.pyplot as plt\n",
    "from tqdm import tqdm\n",
    "import shutil\n",
    "import PIL\n",
    "import pandas as pd\n",
    "from libtiff import TIFF\n",
    "\n",
    "import re\n",
    "from sklearn.model_selection import StratifiedShuffleSplit\n",
    "from keras.preprocessing.image import ImageDataGenerator\n",
    "\n",
    "import tensorflow as tf\n",
    "from keras.models import Model\n",
    "from keras.layers import Dense, Dropout, Flatten\n",
    "from keras.callbacks import ModelCheckpoint, EarlyStopping, ReduceLROnPlateau\n",
    "from keras.optimizers import Adam\n",
    "\n",
    "from keras.applications import ResNet50"
   ]
  },
  {
   "cell_type": "code",
   "execution_count": 28,
   "metadata": {},
   "outputs": [],
   "source": [
    "# hi"
   ]
  },
  {
   "cell_type": "code",
   "execution_count": 29,
   "metadata": {},
   "outputs": [],
   "source": [
    "data_dir = \"/home/mq_khan/datasets/eurosat\"\n",
    "new_data = \"/home/fatima_tuz_zehra/Dataset/euro-rgb-new\""
   ]
  },
  {
   "cell_type": "code",
   "execution_count": 30,
   "metadata": {},
   "outputs": [
    {
     "data": {
      "text/plain": [
       "['HerbaceousVegetation',\n",
       " 'Highway',\n",
       " 'SeaLake',\n",
       " 'Forest',\n",
       " 'River',\n",
       " 'Pasture',\n",
       " 'PermanentCrop',\n",
       " 'Industrial',\n",
       " 'Residential',\n",
       " 'AnnualCrop']"
      ]
     },
     "execution_count": 30,
     "metadata": {},
     "output_type": "execute_result"
    }
   ],
   "source": [
    "labels = os.listdir(data_dir)\n",
    "labels"
   ]
  },
  {
   "cell_type": "code",
   "execution_count": 31,
   "metadata": {},
   "outputs": [
    {
     "data": {
      "text/plain": [
       "{'HerbaceousVegetation': 3000,\n",
       " 'Highway': 2500,\n",
       " 'SeaLake': 3000,\n",
       " 'Forest': 3000,\n",
       " 'River': 2500,\n",
       " 'Pasture': 2000,\n",
       " 'PermanentCrop': 2500,\n",
       " 'Industrial': 2500,\n",
       " 'Residential': 3000,\n",
       " 'AnnualCrop': 3000}"
      ]
     },
     "execution_count": 31,
     "metadata": {},
     "output_type": "execute_result"
    }
   ],
   "source": [
    "freq = dict()\n",
    "for label in labels:\n",
    "    imgs = os.listdir(data_dir + \"/\" + label)\n",
    "    freq[label] = len(imgs)\n",
    "    \n",
    "freq"
   ]
  },
  {
   "cell_type": "code",
   "execution_count": 32,
   "metadata": {},
   "outputs": [
    {
     "data": {
      "image/png": "[encoded data removed]",
      "text/plain": [
       "<Figure size 864x432 with 1 Axes>"
      ]
     },
     "metadata": {
      "needs_background": "light"
     },
     "output_type": "display_data"
    }
   ],
   "source": [
    "fig = plt.figure(figsize = (12,6))\n",
    "ax = fig.add_axes([0,0,1,1])\n",
    "ax.bar(freq.keys(),freq.values())\n",
    "plt.show()"
   ]
  },
  {
   "cell_type": "code",
   "execution_count": 77,
   "metadata": {},
   "outputs": [],
   "source": [
    "train = new_data + \"/train\"\n",
    "test = new_data + \"/test\"\n",
    "val = new_data + \"/val\"\n",
    "for label in labels:\n",
    "    \n",
    "    if not os.path.exists(os.path.join(train, label)):\n",
    "        os.mkdir(os.path.join(train, label))\n",
    "\n",
    "    if not os.path.exists(os.path.join(test, label)):\n",
    "        os.mkdir(os.path.join(test, label))\n",
    "        \n",
    "    if not os.path.exists(os.path.join(val, label)):\n",
    "        os.mkdir(os.path.join(val, label))\n",
    "        \n",
    "    "
   ]
  },
  {
   "cell_type": "code",
   "execution_count": 78,
   "metadata": {},
   "outputs": [],
   "source": [
    "data = {}\n",
    "\n",
    "for l in labels:\n",
    "    for img in os.listdir(data_dir+'/'+l):\n",
    "        data.update({os.path.join(data_dir, l, img): l})\n",
    "\n",
    "X = pd.Series(list(data.keys()))\n",
    "y = pd.get_dummies(pd.Series(data.values()))\n",
    "\n",
    "split = StratifiedShuffleSplit(n_splits=1, test_size=0.12, random_state=69)\n",
    "\n",
    "\n"
   ]
  },
  {
   "cell_type": "code",
   "execution_count": 79,
   "metadata": {},
   "outputs": [
    {
     "data": {
      "text/plain": [
       "0        /home/mq_khan/datasets/eurosat/HerbaceousVeget...\n",
       "1        /home/mq_khan/datasets/eurosat/HerbaceousVeget...\n",
       "2        /home/mq_khan/datasets/eurosat/HerbaceousVeget...\n",
       "3        /home/mq_khan/datasets/eurosat/HerbaceousVeget...\n",
       "4        /home/mq_khan/datasets/eurosat/HerbaceousVeget...\n",
       "                               ...                        \n",
       "26995    /home/mq_khan/datasets/eurosat/AnnualCrop/Annu...\n",
       "26996    /home/mq_khan/datasets/eurosat/AnnualCrop/Annu...\n",
       "26997    /home/mq_khan/datasets/eurosat/AnnualCrop/Annu...\n",
       "26998    /home/mq_khan/datasets/eurosat/AnnualCrop/Annu...\n",
       "26999    /home/mq_khan/datasets/eurosat/AnnualCrop/Annu...\n",
       "Length: 27000, dtype: object"
      ]
     },
     "execution_count": 79,
     "metadata": {},
     "output_type": "execute_result"
    }
   ],
   "source": [
    "X"
   ]
  },
  {
   "cell_type": "code",
   "execution_count": 80,
   "metadata": {},
   "outputs": [
    {
     "name": "stdout",
     "output_type": "stream",
     "text": [
      "[23658 15578 17274 ... 21769  8228 22397]\n"
     ]
    }
   ],
   "source": [
    "var = []\n",
    "for train_idx, test_idx in split.split(X, y):\n",
    "    \n",
    "    var = train_idx\n",
    "print(var)"
   ]
  },
  {
   "cell_type": "code",
   "execution_count": 81,
   "metadata": {},
   "outputs": [
    {
     "name": "stderr",
     "output_type": "stream",
     "text": [
      "  7%|▋         | 1733/23760 [00:00<00:01, 17326.51it/s]"
     ]
    },
    {
     "name": "stdout",
     "output_type": "stream",
     "text": [
      "/home/mq_khan/datasets/eurosat/HerbaceousVegetation/HerbaceousVegetation_1566.jpg\n",
      "moving training files..\n"
     ]
    },
    {
     "name": "stderr",
     "output_type": "stream",
     "text": [
      "100%|██████████| 23760/23760 [00:01<00:00, 16970.45it/s]\n",
      "100%|██████████| 3240/3240 [00:00<00:00, 17154.88it/s]"
     ]
    },
    {
     "name": "stdout",
     "output_type": "stream",
     "text": [
      "moving testing files..\n"
     ]
    },
    {
     "name": "stderr",
     "output_type": "stream",
     "text": [
      "\n"
     ]
    }
   ],
   "source": [
    "for train_idx, test_idx in split.split(X, y):\n",
    "    \n",
    "    train_paths = X[train_idx]\n",
    "    test_paths = X[test_idx]\n",
    "    print(train_paths[0])\n",
    "\n",
    "    # define a new path for each image depending on training or testing\n",
    "    new_train_paths = [re.sub('/home/mq_khan/datasets/eurosat', train, i) for i in train_paths]\n",
    "    new_test_paths = [re.sub('/home/mq_khan/datasets/eurosat', test, i) for i in test_paths]\n",
    "\n",
    "    train_path_map = list((zip(train_paths, new_train_paths)))\n",
    "    test_path_map = list((zip(test_paths, new_test_paths)))\n",
    "    \n",
    "    # move the files\n",
    "    print(\"moving training files..\")\n",
    "    for i in tqdm(train_path_map):\n",
    "        if not os.path.exists(i[1]):\n",
    "            if not os.path.exists(re.sub('training', 'testing', i[1])):\n",
    "                shutil.copy(i[0], i[1])\n",
    "    \n",
    "    print(\"moving testing files..\")\n",
    "    for i in tqdm(test_path_map):\n",
    "        if not os.path.exists(i[1]):\n",
    "            if not os.path.exists(re.sub('training', 'testing', i[1])):\n",
    "                shutil.copy(i[0], i[1])"
   ]
  },
  {
   "cell_type": "code",
   "execution_count": 82,
   "metadata": {},
   "outputs": [],
   "source": [
    "shutil.rmtree(train)"
   ]
  },
  {
   "cell_type": "code",
   "execution_count": 83,
   "metadata": {},
   "outputs": [],
   "source": [
    "os.mkdir(train)"
   ]
  },
  {
   "cell_type": "code",
   "execution_count": 84,
   "metadata": {},
   "outputs": [],
   "source": [
    "for label in labels:\n",
    "    \n",
    "    if not os.path.exists(os.path.join(train, label)):\n",
    "        os.mkdir(os.path.join(train, label))\n"
   ]
  },
  {
   "cell_type": "code",
   "execution_count": 85,
   "metadata": {},
   "outputs": [
    {
     "name": "stderr",
     "output_type": "stream",
     "text": [
      " 17%|█▋        | 3412/20528 [00:00<00:01, 17082.80it/s]"
     ]
    },
    {
     "name": "stdout",
     "output_type": "stream",
     "text": [
      "moving training files..\n"
     ]
    },
    {
     "name": "stderr",
     "output_type": "stream",
     "text": [
      "100%|██████████| 20528/20528 [00:01<00:00, 16901.78it/s]\n",
      "100%|██████████| 3232/3232 [00:00<00:00, 17284.41it/s]"
     ]
    },
    {
     "name": "stdout",
     "output_type": "stream",
     "text": [
      "moving validation files..\n"
     ]
    },
    {
     "name": "stderr",
     "output_type": "stream",
     "text": [
      "\n"
     ]
    }
   ],
   "source": [
    "d_val = {}\n",
    "for i in range(len(X[var])):\n",
    "    d_val.update({X[var[i]]:list(data.values())[var[i]]})\n",
    "\n",
    "x_v = pd.Series(list(d_val.keys()))\n",
    "y_v = pd.get_dummies(pd.Series(d_val.values()))\n",
    "\n",
    "split2 = StratifiedShuffleSplit(n_splits=1, test_size=0.136, random_state=69)\n",
    "\n",
    "for train_idx, val_idx in split2.split(x_v, y_v):\n",
    "    \n",
    "    train_paths = x_v[train_idx]\n",
    "    val_paths = x_v[val_idx]\n",
    "\n",
    "    \n",
    "    new_train_paths = [re.sub('/home/mq_khan/datasets/eurosat', train, i) for i in train_paths]\n",
    "    new_val_paths = [re.sub('/home/mq_khan/datasets/eurosat', val, i) for i in val_paths]\n",
    "\n",
    "    train_path_map = list((zip(train_paths, new_train_paths)))\n",
    "    val_path_map = list((zip(val_paths, new_val_paths)))\n",
    "    \n",
    "    # move the files\n",
    "    print(\"moving training files..\")\n",
    "    \n",
    "    for i in tqdm(train_path_map):\n",
    "        if not os.path.exists(i[1]):\n",
    "            if not os.path.exists(re.sub('training', 'testing', i[1])):\n",
    "                shutil.copy(i[0], i[1])\n",
    "    \n",
    "    \n",
    "    \n",
    "    print(\"moving validation files..\")\n",
    "    for i in tqdm(val_path_map):\n",
    "        if not os.path.exists(i[1]):\n",
    "            if not os.path.exists(re.sub('training', 'testing', i[1])):\n",
    "                shutil.copy(i[0], i[1])\n",
    "\n",
    "\n"
   ]
  },
  {
   "cell_type": "code",
   "execution_count": 86,
   "metadata": {},
   "outputs": [
    {
     "data": {
      "text/plain": [
       "['Forest_1388.jpg',\n",
       " 'Forest_1977.jpg',\n",
       " 'Forest_1480.jpg',\n",
       " 'Forest_1774.jpg',\n",
       " 'Forest_1442.jpg',\n",
       " 'Forest_1182.jpg',\n",
       " 'Forest_1658.jpg',\n",
       " 'Forest_8.jpg',\n",
       " 'Forest_211.jpg',\n",
       " 'Forest_1428.jpg',\n",
       " 'Forest_1542.jpg',\n",
       " 'Forest_26.jpg',\n",
       " 'Forest_569.jpg',\n",
       " 'Forest_2746.jpg',\n",
       " 'Forest_1672.jpg',\n",
       " 'Forest_1937.jpg',\n",
       " 'Forest_1089.jpg',\n",
       " 'Forest_23.jpg',\n",
       " 'Forest_1494.jpg',\n",
       " 'Forest_2831.jpg',\n",
       " 'Forest_2958.jpg',\n",
       " 'Forest_1544.jpg',\n",
       " 'Forest_2903.jpg',\n",
       " 'Forest_189.jpg',\n",
       " 'Forest_616.jpg',\n",
       " 'Forest_2675.jpg',\n",
       " 'Forest_1172.jpg',\n",
       " 'Forest_972.jpg',\n",
       " 'Forest_2472.jpg',\n",
       " 'Forest_2655.jpg',\n",
       " 'Forest_1631.jpg',\n",
       " 'Forest_1924.jpg',\n",
       " 'Forest_678.jpg',\n",
       " 'Forest_2013.jpg',\n",
       " 'Forest_302.jpg',\n",
       " 'Forest_926.jpg',\n",
       " 'Forest_1876.jpg',\n",
       " 'Forest_15.jpg',\n",
       " 'Forest_2513.jpg',\n",
       " 'Forest_146.jpg',\n",
       " 'Forest_2821.jpg',\n",
       " 'Forest_658.jpg',\n",
       " 'Forest_823.jpg',\n",
       " 'Forest_269.jpg',\n",
       " 'Forest_1580.jpg',\n",
       " 'Forest_2698.jpg',\n",
       " 'Forest_341.jpg',\n",
       " 'Forest_1986.jpg',\n",
       " 'Forest_2452.jpg',\n",
       " 'Forest_1192.jpg',\n",
       " 'Forest_1472.jpg',\n",
       " 'Forest_168.jpg',\n",
       " 'Forest_535.jpg',\n",
       " 'Forest_1158.jpg',\n",
       " 'Forest_1206.jpg',\n",
       " 'Forest_1291.jpg',\n",
       " 'Forest_2444.jpg',\n",
       " 'Forest_114.jpg',\n",
       " 'Forest_704.jpg',\n",
       " 'Forest_606.jpg',\n",
       " 'Forest_373.jpg',\n",
       " 'Forest_2399.jpg',\n",
       " 'Forest_161.jpg',\n",
       " 'Forest_1894.jpg',\n",
       " 'Forest_942.jpg',\n",
       " 'Forest_2931.jpg',\n",
       " 'Forest_1938.jpg',\n",
       " 'Forest_1603.jpg',\n",
       " 'Forest_2723.jpg',\n",
       " 'Forest_2984.jpg',\n",
       " 'Forest_2318.jpg',\n",
       " 'Forest_726.jpg',\n",
       " 'Forest_1701.jpg',\n",
       " 'Forest_72.jpg',\n",
       " 'Forest_1929.jpg',\n",
       " 'Forest_2586.jpg',\n",
       " 'Forest_849.jpg',\n",
       " 'Forest_2914.jpg',\n",
       " 'Forest_619.jpg',\n",
       " 'Forest_691.jpg',\n",
       " 'Forest_1487.jpg',\n",
       " 'Forest_1255.jpg',\n",
       " 'Forest_1102.jpg',\n",
       " 'Forest_1673.jpg',\n",
       " 'Forest_2239.jpg',\n",
       " 'Forest_552.jpg',\n",
       " 'Forest_1332.jpg',\n",
       " 'Forest_605.jpg',\n",
       " 'Forest_2661.jpg',\n",
       " 'Forest_1327.jpg',\n",
       " 'Forest_1997.jpg',\n",
       " 'Forest_303.jpg',\n",
       " 'Forest_1519.jpg',\n",
       " 'Forest_1608.jpg',\n",
       " 'Forest_214.jpg',\n",
       " 'Forest_998.jpg',\n",
       " 'Forest_1507.jpg',\n",
       " 'Forest_1008.jpg',\n",
       " 'Forest_42.jpg',\n",
       " 'Forest_265.jpg',\n",
       " 'Forest_2844.jpg',\n",
       " 'Forest_1078.jpg',\n",
       " 'Forest_430.jpg',\n",
       " 'Forest_846.jpg',\n",
       " 'Forest_2690.jpg',\n",
       " 'Forest_378.jpg',\n",
       " 'Forest_1814.jpg',\n",
       " 'Forest_120.jpg',\n",
       " 'Forest_1737.jpg',\n",
       " 'Forest_1827.jpg',\n",
       " 'Forest_997.jpg',\n",
       " 'Forest_1609.jpg',\n",
       " 'Forest_122.jpg',\n",
       " 'Forest_1914.jpg',\n",
       " 'Forest_1324.jpg',\n",
       " 'Forest_2739.jpg',\n",
       " 'Forest_857.jpg',\n",
       " 'Forest_173.jpg',\n",
       " 'Forest_1908.jpg',\n",
       " 'Forest_2738.jpg',\n",
       " 'Forest_323.jpg',\n",
       " 'Forest_1864.jpg',\n",
       " 'Forest_1815.jpg',\n",
       " 'Forest_2061.jpg',\n",
       " 'Forest_1402.jpg',\n",
       " 'Forest_578.jpg',\n",
       " 'Forest_301.jpg',\n",
       " 'Forest_2786.jpg',\n",
       " 'Forest_2918.jpg',\n",
       " 'Forest_286.jpg',\n",
       " 'Forest_1703.jpg',\n",
       " 'Forest_1495.jpg',\n",
       " 'Forest_695.jpg',\n",
       " 'Forest_1654.jpg',\n",
       " 'Forest_1973.jpg',\n",
       " 'Forest_881.jpg',\n",
       " 'Forest_367.jpg',\n",
       " 'Forest_1648.jpg',\n",
       " 'Forest_397.jpg',\n",
       " 'Forest_151.jpg',\n",
       " 'Forest_1726.jpg',\n",
       " 'Forest_2624.jpg',\n",
       " 'Forest_2741.jpg',\n",
       " 'Forest_2206.jpg',\n",
       " 'Forest_735.jpg',\n",
       " 'Forest_2541.jpg',\n",
       " 'Forest_1196.jpg',\n",
       " 'Forest_467.jpg',\n",
       " 'Forest_1733.jpg',\n",
       " 'Forest_1391.jpg',\n",
       " 'Forest_875.jpg',\n",
       " 'Forest_464.jpg',\n",
       " 'Forest_2526.jpg',\n",
       " 'Forest_2374.jpg',\n",
       " 'Forest_487.jpg',\n",
       " 'Forest_2365.jpg',\n",
       " 'Forest_1376.jpg',\n",
       " 'Forest_1433.jpg',\n",
       " 'Forest_1931.jpg',\n",
       " 'Forest_1457.jpg',\n",
       " 'Forest_1445.jpg',\n",
       " 'Forest_793.jpg',\n",
       " 'Forest_2210.jpg',\n",
       " 'Forest_2604.jpg',\n",
       " 'Forest_2341.jpg',\n",
       " 'Forest_1728.jpg',\n",
       " 'Forest_555.jpg',\n",
       " 'Forest_58.jpg',\n",
       " 'Forest_1835.jpg',\n",
       " 'Forest_2529.jpg',\n",
       " 'Forest_414.jpg',\n",
       " 'Forest_2580.jpg',\n",
       " 'Forest_291.jpg',\n",
       " 'Forest_492.jpg',\n",
       " 'Forest_1915.jpg',\n",
       " 'Forest_335.jpg',\n",
       " 'Forest_1269.jpg',\n",
       " 'Forest_2040.jpg',\n",
       " 'Forest_2450.jpg',\n",
       " 'Forest_626.jpg',\n",
       " 'Forest_1729.jpg',\n",
       " 'Forest_1250.jpg',\n",
       " 'Forest_898.jpg',\n",
       " 'Forest_2057.jpg',\n",
       " 'Forest_1017.jpg',\n",
       " 'Forest_2322.jpg',\n",
       " 'Forest_2982.jpg',\n",
       " 'Forest_185.jpg',\n",
       " 'Forest_1331.jpg',\n",
       " 'Forest_2.jpg',\n",
       " 'Forest_2582.jpg',\n",
       " 'Forest_2598.jpg',\n",
       " 'Forest_2029.jpg',\n",
       " 'Forest_304.jpg',\n",
       " 'Forest_336.jpg',\n",
       " 'Forest_2400.jpg',\n",
       " 'Forest_814.jpg',\n",
       " 'Forest_2850.jpg',\n",
       " 'Forest_1050.jpg',\n",
       " 'Forest_279.jpg',\n",
       " 'Forest_2329.jpg',\n",
       " 'Forest_1263.jpg',\n",
       " 'Forest_1635.jpg',\n",
       " 'Forest_2451.jpg',\n",
       " 'Forest_2375.jpg',\n",
       " 'Forest_1551.jpg',\n",
       " 'Forest_2317.jpg',\n",
       " 'Forest_853.jpg',\n",
       " 'Forest_1803.jpg',\n",
       " 'Forest_1610.jpg',\n",
       " 'Forest_2966.jpg',\n",
       " 'Forest_1595.jpg',\n",
       " 'Forest_1013.jpg',\n",
       " 'Forest_2045.jpg',\n",
       " 'Forest_1395.jpg',\n",
       " 'Forest_1086.jpg',\n",
       " 'Forest_1678.jpg',\n",
       " 'Forest_2776.jpg',\n",
       " 'Forest_1351.jpg',\n",
       " 'Forest_949.jpg',\n",
       " 'Forest_991.jpg',\n",
       " 'Forest_63.jpg',\n",
       " 'Forest_2112.jpg',\n",
       " 'Forest_339.jpg',\n",
       " 'Forest_1753.jpg',\n",
       " 'Forest_1990.jpg',\n",
       " 'Forest_357.jpg',\n",
       " 'Forest_684.jpg',\n",
       " 'Forest_1786.jpg',\n",
       " 'Forest_2618.jpg',\n",
       " 'Forest_2186.jpg',\n",
       " 'Forest_1131.jpg',\n",
       " 'Forest_1735.jpg',\n",
       " 'Forest_762.jpg',\n",
       " 'Forest_1511.jpg',\n",
       " 'Forest_1770.jpg',\n",
       " 'Forest_455.jpg',\n",
       " 'Forest_653.jpg',\n",
       " 'Forest_961.jpg',\n",
       " 'Forest_2298.jpg',\n",
       " 'Forest_140.jpg',\n",
       " 'Forest_1920.jpg',\n",
       " 'Forest_2968.jpg',\n",
       " 'Forest_1756.jpg',\n",
       " 'Forest_2218.jpg',\n",
       " 'Forest_2985.jpg',\n",
       " 'Forest_666.jpg',\n",
       " 'Forest_1606.jpg',\n",
       " 'Forest_1148.jpg',\n",
       " 'Forest_95.jpg',\n",
       " 'Forest_603.jpg',\n",
       " 'Forest_736.jpg',\n",
       " 'Forest_1023.jpg',\n",
       " 'Forest_1652.jpg',\n",
       " 'Forest_1390.jpg',\n",
       " 'Forest_1136.jpg',\n",
       " 'Forest_1959.jpg',\n",
       " 'Forest_1933.jpg',\n",
       " 'Forest_888.jpg',\n",
       " 'Forest_617.jpg',\n",
       " 'Forest_1884.jpg',\n",
       " 'Forest_1684.jpg',\n",
       " 'Forest_839.jpg',\n",
       " 'Forest_2053.jpg',\n",
       " 'Forest_1491.jpg',\n",
       " 'Forest_827.jpg',\n",
       " 'Forest_250.jpg',\n",
       " 'Forest_1927.jpg',\n",
       " 'Forest_1642.jpg',\n",
       " 'Forest_2532.jpg',\n",
       " 'Forest_2225.jpg',\n",
       " 'Forest_1676.jpg',\n",
       " 'Forest_1505.jpg',\n",
       " 'Forest_2583.jpg',\n",
       " 'Forest_1168.jpg',\n",
       " 'Forest_636.jpg',\n",
       " 'Forest_456.jpg',\n",
       " 'Forest_361.jpg',\n",
       " 'Forest_216.jpg',\n",
       " 'Forest_2721.jpg',\n",
       " 'Forest_278.jpg',\n",
       " 'Forest_1572.jpg',\n",
       " 'Forest_425.jpg',\n",
       " 'Forest_760.jpg',\n",
       " 'Forest_44.jpg',\n",
       " 'Forest_97.jpg',\n",
       " 'Forest_1328.jpg',\n",
       " 'Forest_513.jpg',\n",
       " 'Forest_2726.jpg',\n",
       " 'Forest_1666.jpg',\n",
       " 'Forest_495.jpg',\n",
       " 'Forest_785.jpg',\n",
       " 'Forest_794.jpg',\n",
       " 'Forest_2095.jpg',\n",
       " 'Forest_237.jpg',\n",
       " 'Forest_2111.jpg',\n",
       " 'Forest_1694.jpg',\n",
       " 'Forest_2221.jpg',\n",
       " 'Forest_1095.jpg',\n",
       " 'Forest_1696.jpg',\n",
       " 'Forest_1334.jpg',\n",
       " 'Forest_2767.jpg',\n",
       " 'Forest_733.jpg',\n",
       " 'Forest_648.jpg',\n",
       " 'Forest_1161.jpg',\n",
       " 'Forest_910.jpg',\n",
       " 'Forest_2492.jpg',\n",
       " 'Forest_1444.jpg',\n",
       " 'Forest_1323.jpg',\n",
       " 'Forest_1956.jpg',\n",
       " 'Forest_1964.jpg',\n",
       " 'Forest_2074.jpg',\n",
       " 'Forest_1407.jpg',\n",
       " 'Forest_1139.jpg',\n",
       " 'Forest_2058.jpg',\n",
       " 'Forest_2578.jpg',\n",
       " 'Forest_929.jpg',\n",
       " 'Forest_1874.jpg']"
      ]
     },
     "execution_count": 86,
     "metadata": {},
     "output_type": "execute_result"
    }
   ],
   "source": [
    "os.listdir(val + \"/Forest\" )"
   ]
  },
  {
   "cell_type": "code",
   "execution_count": 87,
   "metadata": {},
   "outputs": [
    {
     "name": "stdout",
     "output_type": "stream",
     "text": [
      "Found 20528 images belonging to 10 classes.\n",
      "Found 3232 images belonging to 10 classes.\n",
      "Found 3240 images belonging to 10 classes.\n"
     ]
    }
   ],
   "source": [
    "train_generator_obj = ImageDataGenerator(\n",
    "    rescale=1./255,\n",
    "    rotation_range=40,\n",
    "    width_shift_range=0.3,\n",
    "    height_shift_range=0.3,\n",
    "    shear_range=0.2,\n",
    "    zoom_range=0.2,\n",
    "    horizontal_flip=True,\n",
    "    vertical_flip = True\n",
    ")\n",
    "\n",
    "train_generator = train_generator_obj.flow_from_directory(\n",
    "    directory=train,\n",
    "    target_size=(64, 64),\n",
    "    batch_size= 32,\n",
    "    class_mode= 'categorical',\n",
    "    color_mode='rgb',\n",
    "    shuffle=True,\n",
    "    seed=69\n",
    ")\n",
    "\n",
    "\n",
    "val_generator_obj = ImageDataGenerator(\n",
    "    rescale=1./255,\n",
    "    rotation_range=40,\n",
    "    width_shift_range=0.3,\n",
    "    height_shift_range=0.3,\n",
    "    shear_range=0.2,\n",
    "    zoom_range=0.2,\n",
    "    horizontal_flip=True,\n",
    "    vertical_flip = True\n",
    ")\n",
    "\n",
    "\n",
    "valid_generator = val_generator_obj.flow_from_directory(\n",
    "    directory=val,\n",
    "    target_size=(64, 64),\n",
    "    batch_size=32,\n",
    "    class_mode='categorical',\n",
    "    color_mode='rgb',\n",
    "    shuffle=True,\n",
    "    seed=69\n",
    ")\n",
    "\n",
    "\n",
    "\n",
    "test_generator = ImageDataGenerator(\n",
    "    rescale=1/255,\n",
    ")\n",
    "\n",
    "test_generator = test_generator.flow_from_directory(\n",
    "    directory=test,\n",
    "    target_size=(64, 64),\n",
    "    batch_size=32,\n",
    "    class_mode='categorical',\n",
    "    color_mode='rgb',\n",
    "    shuffle=False,\n",
    "    seed=69\n",
    ")"
   ]
  },
  {
   "cell_type": "code",
   "execution_count": 88,
   "metadata": {},
   "outputs": [
    {
     "data": {
      "text/plain": [
       "[PhysicalDevice(name='/physical_device:GPU:0', device_type='GPU')]"
      ]
     },
     "execution_count": 88,
     "metadata": {},
     "output_type": "execute_result"
    }
   ],
   "source": [
    "tf.config.list_physical_devices('GPU')"
   ]
  },
  {
   "cell_type": "code",
   "execution_count": 89,
   "metadata": {},
   "outputs": [],
   "source": [
    "def get_model(lr, tune = None):\n",
    "    resnet = ResNet50(include_top=False,\n",
    "                                 weights='imagenet', \n",
    "                                 input_shape=(64,64,3))\n",
    "    model = resnet.output\n",
    "    model = Flatten()(model)\n",
    "    model = Dense(2048, activation='relu')(model)\n",
    "    model = Dropout(0.2)(model)\n",
    "\n",
    "    output = Dense(len(labels), activation='softmax')(model)\n",
    "\n",
    "    model = Model(inputs=resnet.input, outputs=output)\n",
    "    \n",
    "    if(tune == 0):\n",
    "        for layer in resnet.layers:\n",
    "            layer.trainable = True\n",
    "            \n",
    "    else:\n",
    "        for layer in resnet.layers:\n",
    "            layer.trainable = False\n",
    "        \n",
    "\n",
    "    model.compile(optimizer=Adam(lr = lr), loss='categorical_crossentropy',\n",
    "                     metrics=['categorical_accuracy'])\n",
    "    return model"
   ]
  },
  {
   "cell_type": "code",
   "execution_count": 90,
   "metadata": {},
   "outputs": [],
   "source": [
    "res = get_model(lr = 1e-3)\n",
    "step_size = train_generator.samples//32\n",
    "val_step = valid_generator.samples//32\n",
    "\n",
    "train_generator.reset()\n",
    "test_generator.reset()\n",
    "\n"
   ]
  },
  {
   "cell_type": "code",
   "execution_count": 91,
   "metadata": {},
   "outputs": [
    {
     "name": "stdout",
     "output_type": "stream",
     "text": [
      "Epoch 1/12\n",
      "641/641 [==============================] - ETA: 0s - loss: 1.8742 - categorical_accuracy: 0.3033\n",
      "Epoch 00001: val_categorical_accuracy improved from -inf to 0.34777, saving model to /home/fatima_tuz_zehra/Dataset/euro-rgb-new/best.hdf5\n",
      "641/641 [==============================] - 30s 46ms/step - loss: 1.8742 - categorical_accuracy: 0.3033 - val_loss: 1.6362 - val_categorical_accuracy: 0.3478\n",
      "Epoch 2/12\n",
      "641/641 [==============================] - ETA: 0s - loss: 1.6227 - categorical_accuracy: 0.3807\n",
      "Epoch 00002: val_categorical_accuracy improved from 0.34777 to 0.42512, saving model to /home/fatima_tuz_zehra/Dataset/euro-rgb-new/best.hdf5\n",
      "641/641 [==============================] - 46s 72ms/step - loss: 1.6227 - categorical_accuracy: 0.3807 - val_loss: 1.5604 - val_categorical_accuracy: 0.4251\n",
      "Epoch 3/12\n",
      "641/641 [==============================] - ETA: 0s - loss: 1.5608 - categorical_accuracy: 0.4090\n",
      "Epoch 00003: val_categorical_accuracy did not improve from 0.42512\n",
      "641/641 [==============================] - 42s 65ms/step - loss: 1.5608 - categorical_accuracy: 0.4090 - val_loss: 1.5060 - val_categorical_accuracy: 0.4174\n",
      "Epoch 4/12\n",
      "641/641 [==============================] - ETA: 0s - loss: 1.5297 - categorical_accuracy: 0.4218\n",
      "Epoch 00004: val_categorical_accuracy did not improve from 0.42512\n",
      "641/641 [==============================] - 45s 70ms/step - loss: 1.5297 - categorical_accuracy: 0.4218 - val_loss: 1.5313 - val_categorical_accuracy: 0.4236\n",
      "Epoch 5/12\n",
      "641/641 [==============================] - ETA: 0s - loss: 1.5068 - categorical_accuracy: 0.4331\n",
      "Epoch 00005: val_categorical_accuracy improved from 0.42512 to 0.47432, saving model to /home/fatima_tuz_zehra/Dataset/euro-rgb-new/best.hdf5\n",
      "641/641 [==============================] - 50s 78ms/step - loss: 1.5068 - categorical_accuracy: 0.4331 - val_loss: 1.4390 - val_categorical_accuracy: 0.4743\n",
      "Epoch 6/12\n",
      "641/641 [==============================] - ETA: 0s - loss: 1.4705 - categorical_accuracy: 0.4472\n",
      "Epoch 00006: val_categorical_accuracy did not improve from 0.47432\n",
      "641/641 [==============================] - 48s 74ms/step - loss: 1.4705 - categorical_accuracy: 0.4472 - val_loss: 1.4607 - val_categorical_accuracy: 0.4378\n",
      "Epoch 7/12\n",
      "641/641 [==============================] - ETA: 0s - loss: 1.4567 - categorical_accuracy: 0.4579\n",
      "Epoch 00007: val_categorical_accuracy improved from 0.47432 to 0.48762, saving model to /home/fatima_tuz_zehra/Dataset/euro-rgb-new/best.hdf5\n",
      "641/641 [==============================] - 52s 81ms/step - loss: 1.4567 - categorical_accuracy: 0.4579 - val_loss: 1.4156 - val_categorical_accuracy: 0.4876\n",
      "Epoch 8/12\n",
      "641/641 [==============================] - ETA: 0s - loss: 1.4470 - categorical_accuracy: 0.4579\n",
      "Epoch 00008: val_categorical_accuracy did not improve from 0.48762\n",
      "641/641 [==============================] - 51s 80ms/step - loss: 1.4470 - categorical_accuracy: 0.4579 - val_loss: 1.3823 - val_categorical_accuracy: 0.4619\n",
      "Epoch 9/12\n",
      "641/641 [==============================] - ETA: 0s - loss: 1.4382 - categorical_accuracy: 0.4558\n",
      "Epoch 00009: val_categorical_accuracy improved from 0.48762 to 0.51949, saving model to /home/fatima_tuz_zehra/Dataset/euro-rgb-new/best.hdf5\n",
      "641/641 [==============================] - 55s 85ms/step - loss: 1.4382 - categorical_accuracy: 0.4558 - val_loss: 1.3587 - val_categorical_accuracy: 0.5195\n",
      "Epoch 10/12\n",
      "641/641 [==============================] - ETA: 0s - loss: 1.4119 - categorical_accuracy: 0.4751\n",
      "Epoch 00010: val_categorical_accuracy did not improve from 0.51949\n",
      "641/641 [==============================] - 53s 82ms/step - loss: 1.4119 - categorical_accuracy: 0.4751 - val_loss: 1.3604 - val_categorical_accuracy: 0.4777\n",
      "Epoch 11/12\n",
      "641/641 [==============================] - ETA: 0s - loss: 1.4127 - categorical_accuracy: 0.4701\n",
      "Epoch 00011: val_categorical_accuracy did not improve from 0.51949\n",
      "641/641 [==============================] - 53s 83ms/step - loss: 1.4127 - categorical_accuracy: 0.4701 - val_loss: 1.4058 - val_categorical_accuracy: 0.4493\n",
      "Epoch 12/12\n",
      "641/641 [==============================] - ETA: 0s - loss: 1.4112 - categorical_accuracy: 0.4725\n",
      "Epoch 00012: val_categorical_accuracy did not improve from 0.51949\n",
      "641/641 [==============================] - 56s 87ms/step - loss: 1.4112 - categorical_accuracy: 0.4725 - val_loss: 1.4736 - val_categorical_accuracy: 0.4288\n"
     ]
    }
   ],
   "source": [
    "checkpoint = ModelCheckpoint(filepath = new_data + '/best.hdf5',\n",
    "                        monitor='val_categorical_accuracy',\n",
    "                        save_best_only=True,\n",
    "                        verbose=1)\n",
    "\n",
    "early_stop = EarlyStopping(monitor='val_categorical_accuracy',\n",
    "                           patience=4,\n",
    "                           restore_best_weights=True,\n",
    "                           mode='max')\n",
    "\n",
    "\n",
    "history = res.fit(train_generator,\n",
    "                             steps_per_epoch=step_size,\n",
    "                             epochs = 12,callbacks=[early_stop, checkpoint],\n",
    "                           validation_data=valid_generator,\n",
    "                             validation_steps=val_step)"
   ]
  },
  {
   "cell_type": "code",
   "execution_count": 92,
   "metadata": {},
   "outputs": [
    {
     "name": "stdout",
     "output_type": "stream",
     "text": [
      "WARNING:tensorflow:From <ipython-input-92-05f2f5f3782c>:17: Model.fit_generator (from tensorflow.python.keras.engine.training) is deprecated and will be removed in a future version.\n",
      "Instructions for updating:\n",
      "Please use Model.fit, which supports generators.\n",
      "Epoch 1/17\n",
      "641/641 [==============================] - ETA: 0s - loss: 1.1333 - categorical_accuracy: 0.7810\n",
      "Epoch 00001: val_categorical_accuracy did not improve from 0.51949\n",
      "641/641 [==============================] - 70s 109ms/step - loss: 1.1333 - categorical_accuracy: 0.7810 - val_loss: 26.9155 - val_categorical_accuracy: 0.0489\n",
      "Epoch 2/17\n",
      "641/641 [==============================] - ETA: 0s - loss: 0.3628 - categorical_accuracy: 0.8852\n",
      "Epoch 00002: val_categorical_accuracy improved from 0.51949 to 0.90223, saving model to /home/fatima_tuz_zehra/Dataset/euro-rgb-new/best.hdf5\n",
      "641/641 [==============================] - 74s 115ms/step - loss: 0.3628 - categorical_accuracy: 0.8852 - val_loss: 0.2779 - val_categorical_accuracy: 0.9022\n",
      "Epoch 3/17\n",
      "641/641 [==============================] - ETA: 0s - loss: 0.2691 - categorical_accuracy: 0.9095\n",
      "Epoch 00003: val_categorical_accuracy improved from 0.90223 to 0.92946, saving model to /home/fatima_tuz_zehra/Dataset/euro-rgb-new/best.hdf5\n",
      "641/641 [==============================] - 75s 117ms/step - loss: 0.2691 - categorical_accuracy: 0.9095 - val_loss: 0.2093 - val_categorical_accuracy: 0.9295\n",
      "Epoch 4/17\n",
      "641/641 [==============================] - ETA: 0s - loss: 0.2286 - categorical_accuracy: 0.9251\n",
      "Epoch 00004: val_categorical_accuracy improved from 0.92946 to 0.93936, saving model to /home/fatima_tuz_zehra/Dataset/euro-rgb-new/best.hdf5\n",
      "641/641 [==============================] - 74s 115ms/step - loss: 0.2286 - categorical_accuracy: 0.9251 - val_loss: 0.1889 - val_categorical_accuracy: 0.9394\n",
      "Epoch 5/17\n",
      "641/641 [==============================] - ETA: 0s - loss: 0.2138 - categorical_accuracy: 0.9330\n",
      "Epoch 00005: val_categorical_accuracy improved from 0.93936 to 0.95204, saving model to /home/fatima_tuz_zehra/Dataset/euro-rgb-new/best.hdf5\n",
      "641/641 [==============================] - 76s 119ms/step - loss: 0.2138 - categorical_accuracy: 0.9330 - val_loss: 0.1670 - val_categorical_accuracy: 0.9520\n",
      "Epoch 6/17\n",
      "641/641 [==============================] - ETA: 0s - loss: 0.2099 - categorical_accuracy: 0.9344\n",
      "Epoch 00006: val_categorical_accuracy did not improve from 0.95204\n",
      "641/641 [==============================] - 74s 116ms/step - loss: 0.2099 - categorical_accuracy: 0.9344 - val_loss: 0.3012 - val_categorical_accuracy: 0.9062\n",
      "Epoch 7/17\n",
      "641/641 [==============================] - ETA: 0s - loss: 0.1792 - categorical_accuracy: 0.9420\n",
      "Epoch 00007: val_categorical_accuracy did not improve from 0.95204\n",
      "641/641 [==============================] - 73s 114ms/step - loss: 0.1792 - categorical_accuracy: 0.9420 - val_loss: 0.1528 - val_categorical_accuracy: 0.9499\n",
      "Epoch 8/17\n",
      "641/641 [==============================] - ETA: 0s - loss: 0.1760 - categorical_accuracy: 0.9424\n",
      "Epoch 00008: val_categorical_accuracy did not improve from 0.95204\n",
      "641/641 [==============================] - 75s 117ms/step - loss: 0.1760 - categorical_accuracy: 0.9424 - val_loss: 0.2120 - val_categorical_accuracy: 0.9372\n",
      "Epoch 9/17\n",
      "641/641 [==============================] - ETA: 0s - loss: 0.1676 - categorical_accuracy: 0.9446\n",
      "Epoch 00009: val_categorical_accuracy did not improve from 0.95204\n",
      "641/641 [==============================] - 74s 115ms/step - loss: 0.1676 - categorical_accuracy: 0.9446 - val_loss: 0.1491 - val_categorical_accuracy: 0.9517\n"
     ]
    }
   ],
   "source": [
    "step_size = train_generator.samples//32\n",
    "val_step = valid_generator.samples//32\n",
    "\n",
    "\n",
    "resnet50 = get_model(1e-4,0)\n",
    "\n",
    "resnet50.load_weights(new_data + '/best.hdf5')\n",
    "\n",
    "train_generator.reset()\n",
    "test_generator.reset()\n",
    "\n",
    "resnet50_history = resnet50.fit_generator(train_generator,\n",
    "                             steps_per_epoch=step_size,\n",
    "                             epochs=17,\n",
    "                             callbacks=[early_stop, checkpoint],\n",
    "                             validation_data=valid_generator,\n",
    "                             validation_steps=val_step)"
   ]
  },
  {
   "cell_type": "code",
   "execution_count": 93,
   "metadata": {},
   "outputs": [
    {
     "data": {
      "text/plain": [
       "dict_keys(['loss', 'categorical_accuracy', 'val_loss', 'val_categorical_accuracy'])"
      ]
     },
     "execution_count": 93,
     "metadata": {},
     "output_type": "execute_result"
    }
   ],
   "source": [
    "resnet50_history.history.keys()"
   ]
  },
  {
   "cell_type": "code",
   "execution_count": 94,
   "metadata": {},
   "outputs": [
    {
     "data": {
      "image/png": "[encoded data removed]",
      "text/plain": [
       "<Figure size 432x288 with 1 Axes>"
      ]
     },
     "metadata": {
      "needs_background": "light"
     },
     "output_type": "display_data"
    }
   ],
   "source": [
    "plt.plot(history.history['categorical_accuracy'])\n",
    "plt.plot(history.history['val_categorical_accuracy'])\n",
    "plt.title('model accuracy')\n",
    "plt.ylabel('accuracy')\n",
    "plt.xlabel('epoch')\n",
    "plt.legend(['train', 'val'], loc='upper left')\n",
    "plt.show()"
   ]
  },
  {
   "cell_type": "code",
   "execution_count": 96,
   "metadata": {},
   "outputs": [
    {
     "name": "stdout",
     "output_type": "stream",
     "text": [
      "102/102 [==============================] - 3s 26ms/step - loss: 0.1394 - categorical_accuracy: 0.9577\n"
     ]
    }
   ],
   "source": [
    "eval_test = resnet50.evaluate(test_generator)"
   ]
  }
 ],
 "metadata": {
  "kernelspec": {
   "display_name": "Python 3",
   "language": "python",
   "name": "python3"
  },
  "language_info": {
   "codemirror_mode": {
    "name": "ipython",
    "version": 3
   },
   "file_extension": ".py",
   "mimetype": "text/x-python",
   "name": "python",
   "nbconvert_exporter": "python",
   "pygments_lexer": "ipython3",
   "version": "3.7.6"
  }
 },
 "nbformat": 4,
 "nbformat_minor": 4
}
